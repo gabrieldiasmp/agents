{
 "cells": [
  {
   "cell_type": "code",
   "execution_count": 1,
   "id": "f816ae93",
   "metadata": {},
   "outputs": [],
   "source": [
    "%load_ext autoreload\n",
    "%autoreload 2"
   ]
  },
  {
   "cell_type": "code",
   "execution_count": 2,
   "id": "9ca135e6",
   "metadata": {},
   "outputs": [
    {
     "data": {
      "text/html": [
       "<div>\n",
       "<style scoped>\n",
       "    .dataframe tbody tr th:only-of-type {\n",
       "        vertical-align: middle;\n",
       "    }\n",
       "\n",
       "    .dataframe tbody tr th {\n",
       "        vertical-align: top;\n",
       "    }\n",
       "\n",
       "    .dataframe thead th {\n",
       "        text-align: right;\n",
       "    }\n",
       "</style>\n",
       "<table border=\"1\" class=\"dataframe\">\n",
       "  <thead>\n",
       "    <tr style=\"text-align: right;\">\n",
       "      <th></th>\n",
       "      <th>id</th>\n",
       "      <th>tokens</th>\n",
       "      <th>pos_tags</th>\n",
       "      <th>chunk_tags</th>\n",
       "      <th>ner_tags</th>\n",
       "      <th>pred_ner_tags</th>\n",
       "    </tr>\n",
       "  </thead>\n",
       "  <tbody>\n",
       "    <tr>\n",
       "      <th>0</th>\n",
       "      <td>0</td>\n",
       "      <td>[SOCCER, -, JAPAN, GET, LUCKY, WIN, ,, CHINA, ...</td>\n",
       "      <td>[21, 8, 22, 37, 22, 22, 6, 22, 15, 12, 21, 7]</td>\n",
       "      <td>[11, 0, 11, 21, 11, 12, 0, 11, 13, 11, 12, 0]</td>\n",
       "      <td>[0, 0, 5, 0, 0, 0, 0, 1, 0, 0, 0, 0]</td>\n",
       "      <td>[0, 0, 0, 0, 0, 0, 0, 0, 0, 0, 0, 0]</td>\n",
       "    </tr>\n",
       "    <tr>\n",
       "      <th>1</th>\n",
       "      <td>1</td>\n",
       "      <td>[Nadim, Ladki]</td>\n",
       "      <td>[22, 22]</td>\n",
       "      <td>[11, 12]</td>\n",
       "      <td>[1, 2]</td>\n",
       "      <td>[1, 2]</td>\n",
       "    </tr>\n",
       "    <tr>\n",
       "      <th>2</th>\n",
       "      <td>2</td>\n",
       "      <td>[AL-AIN, ,, United, Arab, Emirates, 1996-12-06]</td>\n",
       "      <td>[22, 6, 22, 22, 23, 11]</td>\n",
       "      <td>[11, 0, 11, 12, 12, 12]</td>\n",
       "      <td>[5, 0, 5, 6, 6, 0]</td>\n",
       "      <td>[0, 0, 0, 0, 0, 0]</td>\n",
       "    </tr>\n",
       "    <tr>\n",
       "      <th>3</th>\n",
       "      <td>3</td>\n",
       "      <td>[Japan, began, the, defence, of, their, Asian,...</td>\n",
       "      <td>[22, 38, 12, 21, 15, 29, 16, 22, 21, 15, 12, 1...</td>\n",
       "      <td>[11, 21, 11, 12, 13, 11, 12, 12, 12, 13, 11, 1...</td>\n",
       "      <td>[5, 0, 0, 0, 0, 0, 7, 8, 0, 0, 0, 0, 0, 0, 0, ...</td>\n",
       "      <td>[0, 0, 0, 0, 0, 0, 0, 0, 0, 0, 0, 0, 0, 0, 0, ...</td>\n",
       "    </tr>\n",
       "    <tr>\n",
       "      <th>4</th>\n",
       "      <td>4</td>\n",
       "      <td>[But, China, saw, their, luck, desert, them, i...</td>\n",
       "      <td>[10, 22, 38, 29, 21, 37, 28, 15, 12, 21, 21, 1...</td>\n",
       "      <td>[0, 11, 21, 11, 12, 21, 11, 13, 11, 12, 12, 13...</td>\n",
       "      <td>[0, 5, 0, 0, 0, 0, 0, 0, 0, 0, 0, 0, 0, 0, 0, ...</td>\n",
       "      <td>[0, 0, 0, 0, 0, 0, 0, 0, 0, 0, 0, 0, 0, 0, 0, ...</td>\n",
       "    </tr>\n",
       "  </tbody>\n",
       "</table>\n",
       "</div>"
      ],
      "text/plain": [
       "  id                                             tokens  \\\n",
       "0  0  [SOCCER, -, JAPAN, GET, LUCKY, WIN, ,, CHINA, ...   \n",
       "1  1                                     [Nadim, Ladki]   \n",
       "2  2    [AL-AIN, ,, United, Arab, Emirates, 1996-12-06]   \n",
       "3  3  [Japan, began, the, defence, of, their, Asian,...   \n",
       "4  4  [But, China, saw, their, luck, desert, them, i...   \n",
       "\n",
       "                                            pos_tags  \\\n",
       "0      [21, 8, 22, 37, 22, 22, 6, 22, 15, 12, 21, 7]   \n",
       "1                                           [22, 22]   \n",
       "2                            [22, 6, 22, 22, 23, 11]   \n",
       "3  [22, 38, 12, 21, 15, 29, 16, 22, 21, 15, 12, 1...   \n",
       "4  [10, 22, 38, 29, 21, 37, 28, 15, 12, 21, 21, 1...   \n",
       "\n",
       "                                          chunk_tags  \\\n",
       "0      [11, 0, 11, 21, 11, 12, 0, 11, 13, 11, 12, 0]   \n",
       "1                                           [11, 12]   \n",
       "2                            [11, 0, 11, 12, 12, 12]   \n",
       "3  [11, 21, 11, 12, 13, 11, 12, 12, 12, 13, 11, 1...   \n",
       "4  [0, 11, 21, 11, 12, 21, 11, 13, 11, 12, 12, 13...   \n",
       "\n",
       "                                            ner_tags  \\\n",
       "0               [0, 0, 5, 0, 0, 0, 0, 1, 0, 0, 0, 0]   \n",
       "1                                             [1, 2]   \n",
       "2                                 [5, 0, 5, 6, 6, 0]   \n",
       "3  [5, 0, 0, 0, 0, 0, 7, 8, 0, 0, 0, 0, 0, 0, 0, ...   \n",
       "4  [0, 5, 0, 0, 0, 0, 0, 0, 0, 0, 0, 0, 0, 0, 0, ...   \n",
       "\n",
       "                                       pred_ner_tags  \n",
       "0               [0, 0, 0, 0, 0, 0, 0, 0, 0, 0, 0, 0]  \n",
       "1                                             [1, 2]  \n",
       "2                                 [0, 0, 0, 0, 0, 0]  \n",
       "3  [0, 0, 0, 0, 0, 0, 0, 0, 0, 0, 0, 0, 0, 0, 0, ...  \n",
       "4  [0, 0, 0, 0, 0, 0, 0, 0, 0, 0, 0, 0, 0, 0, 0, ...  "
      ]
     },
     "execution_count": 2,
     "metadata": {},
     "output_type": "execute_result"
    }
   ],
   "source": [
    "import pandas as pd\n",
    "\n",
    "# Replace with your file path\n",
    "df = pd.read_parquet(\"/Users/gabrieldiasmp/Documents/pasta_gabriel/codigo/agents/7_named_entity_recognition/outputs/predictions.parquet\")\n",
    "\n",
    "# Preview the first rows\n",
    "df.head()"
   ]
  },
  {
   "cell_type": "code",
   "execution_count": 3,
   "id": "0528099e",
   "metadata": {},
   "outputs": [],
   "source": [
    "import asyncio\n",
    "import json\n",
    "import os\n",
    "import sys\n",
    "from typing import List\n",
    "\n",
    "from datasets import Dataset\n",
    "from agents import Runner, RunConfig\n",
    "\n",
    "from config import settings  # type: ignore\n",
    "from data import (  # type: ignore\n",
    "    build_prompt,\n",
    "    get_label_mapping,\n",
    "    sanitize_tokens,\n",
    "    validate_predicted_ids,\n",
    ")\n",
    "from model_provider import GEMINI_PROVIDER  # type: ignore\n",
    "from ner_agent import build_ner_agent  # type: ignore\n",
    "\n",
    "from data import load_conll2003_test_split  # type: ignore\n",
    "from runner import run_dataset  # type: ignore\n",
    "\n",
    "from config import settings  # type: ignore\n",
    "\n"
   ]
  },
  {
   "cell_type": "code",
   "execution_count": 4,
   "id": "766a360b",
   "metadata": {},
   "outputs": [
    {
     "name": "stdout",
     "output_type": "stream",
     "text": [
      "[NER] Environment loaded. Starting...\n",
      "[NER] Loading CoNLL2003 test split...\n"
     ]
    }
   ],
   "source": [
    "print(\"[NER] Environment loaded. Starting...\")\n",
    "if not settings.api_key:\n",
    "    raise ValueError(\"GOOGLE_API_KEY is required\")\n",
    "print(\"[NER] Loading CoNLL2003 test split...\")\n",
    "ds = load_conll2003_test_split()\n"
   ]
  },
  {
   "cell_type": "code",
   "execution_count": 5,
   "id": "d2e266d2",
   "metadata": {},
   "outputs": [
    {
     "data": {
      "text/plain": [
       "{'id': '0',\n",
       " 'tokens': ['SOCCER',\n",
       "  '-',\n",
       "  'JAPAN',\n",
       "  'GET',\n",
       "  'LUCKY',\n",
       "  'WIN',\n",
       "  ',',\n",
       "  'CHINA',\n",
       "  'IN',\n",
       "  'SURPRISE',\n",
       "  'DEFEAT',\n",
       "  '.'],\n",
       " 'pos_tags': [21, 8, 22, 37, 22, 22, 6, 22, 15, 12, 21, 7],\n",
       " 'chunk_tags': [11, 0, 11, 21, 11, 12, 0, 11, 13, 11, 12, 0],\n",
       " 'ner_tags': [0, 0, 5, 0, 0, 0, 0, 1, 0, 0, 0, 0]}"
      ]
     },
     "execution_count": 5,
     "metadata": {},
     "output_type": "execute_result"
    }
   ],
   "source": [
    "ds[0]"
   ]
  },
  {
   "cell_type": "code",
   "execution_count": 6,
   "id": "f39ee917",
   "metadata": {},
   "outputs": [
    {
     "name": "stdout",
     "output_type": "stream",
     "text": [
      "['O', 'B-PER', 'I-PER', 'B-ORG', 'I-ORG', 'B-LOC', 'I-LOC', 'B-MISC', 'I-MISC']\n",
      "9\n"
     ]
    }
   ],
   "source": [
    "label_names, _ = get_label_mapping(ds)\n",
    "num_labels = len(label_names)\n",
    "\n",
    "print(label_names)\n",
    "print(num_labels)"
   ]
  },
  {
   "cell_type": "code",
   "execution_count": 11,
   "id": "8339d36c",
   "metadata": {},
   "outputs": [
    {
     "name": "stdout",
     "output_type": "stream",
     "text": [
      "[NER] Building agent...\n"
     ]
    }
   ],
   "source": [
    "print(\"[NER] Building agent...\")\n",
    "agent = build_ner_agent()\n"
   ]
  },
  {
   "cell_type": "code",
   "execution_count": 12,
   "id": "1410a232",
   "metadata": {},
   "outputs": [
    {
     "name": "stdout",
     "output_type": "stream",
     "text": [
      "[NER] Beginning inference for 1 rows...\n",
      "[NER] Row 0: 12 tokens\n"
     ]
    },
    {
     "ename": "TypeError",
     "evalue": "the JSON object must be str, bytes or bytearray, not list",
     "output_type": "error",
     "traceback": [
      "\u001b[31m---------------------------------------------------------------------------\u001b[39m",
      "\u001b[31mTypeError\u001b[39m                                 Traceback (most recent call last)",
      "\u001b[36mCell\u001b[39m\u001b[36m \u001b[39m\u001b[32mIn[12]\u001b[39m\u001b[32m, line 13\u001b[39m\n\u001b[32m     11\u001b[39m result = \u001b[38;5;28;01mawait\u001b[39;00m Runner.run(agent, prompt, run_config=RunConfig(model_provider=GEMINI_PROVIDER))\n\u001b[32m     12\u001b[39m text = result.final_output \u001b[38;5;28;01mif\u001b[39;00m \u001b[38;5;28mhasattr\u001b[39m(result, \u001b[33m\"\u001b[39m\u001b[33mfinal_output\u001b[39m\u001b[33m\"\u001b[39m) \u001b[38;5;28;01melse\u001b[39;00m \u001b[38;5;28mstr\u001b[39m(result)\n\u001b[32m---> \u001b[39m\u001b[32m13\u001b[39m arr = \u001b[43mjson\u001b[49m\u001b[43m.\u001b[49m\u001b[43mloads\u001b[49m\u001b[43m(\u001b[49m\u001b[43mtext\u001b[49m\u001b[43m)\u001b[49m\n\u001b[32m     14\u001b[39m preds = [\u001b[38;5;28mint\u001b[39m(x) \u001b[38;5;28;01mfor\u001b[39;00m x \u001b[38;5;129;01min\u001b[39;00m arr]\n\u001b[32m     15\u001b[39m \u001b[38;5;66;03m# Basic validation; fallback to O if invalid length\u001b[39;00m\n",
      "\u001b[36mFile \u001b[39m\u001b[32m~/.local/share/uv/python/cpython-3.12.11-macos-aarch64-none/lib/python3.12/json/__init__.py:339\u001b[39m, in \u001b[36mloads\u001b[39m\u001b[34m(s, cls, object_hook, parse_float, parse_int, parse_constant, object_pairs_hook, **kw)\u001b[39m\n\u001b[32m    337\u001b[39m \u001b[38;5;28;01melse\u001b[39;00m:\n\u001b[32m    338\u001b[39m     \u001b[38;5;28;01mif\u001b[39;00m \u001b[38;5;129;01mnot\u001b[39;00m \u001b[38;5;28misinstance\u001b[39m(s, (\u001b[38;5;28mbytes\u001b[39m, \u001b[38;5;28mbytearray\u001b[39m)):\n\u001b[32m--> \u001b[39m\u001b[32m339\u001b[39m         \u001b[38;5;28;01mraise\u001b[39;00m \u001b[38;5;167;01mTypeError\u001b[39;00m(\u001b[33mf\u001b[39m\u001b[33m'\u001b[39m\u001b[33mthe JSON object must be str, bytes or bytearray, \u001b[39m\u001b[33m'\u001b[39m\n\u001b[32m    340\u001b[39m                         \u001b[33mf\u001b[39m\u001b[33m'\u001b[39m\u001b[33mnot \u001b[39m\u001b[38;5;132;01m{\u001b[39;00ms.\u001b[34m__class__\u001b[39m.\u001b[34m__name__\u001b[39m\u001b[38;5;132;01m}\u001b[39;00m\u001b[33m'\u001b[39m)\n\u001b[32m    341\u001b[39m     s = s.decode(detect_encoding(s), \u001b[33m'\u001b[39m\u001b[33msurrogatepass\u001b[39m\u001b[33m'\u001b[39m)\n\u001b[32m    343\u001b[39m \u001b[38;5;28;01mif\u001b[39;00m (\u001b[38;5;28mcls\u001b[39m \u001b[38;5;129;01mis\u001b[39;00m \u001b[38;5;28;01mNone\u001b[39;00m \u001b[38;5;129;01mand\u001b[39;00m object_hook \u001b[38;5;129;01mis\u001b[39;00m \u001b[38;5;28;01mNone\u001b[39;00m \u001b[38;5;129;01mand\u001b[39;00m\n\u001b[32m    344\u001b[39m         parse_int \u001b[38;5;129;01mis\u001b[39;00m \u001b[38;5;28;01mNone\u001b[39;00m \u001b[38;5;129;01mand\u001b[39;00m parse_float \u001b[38;5;129;01mis\u001b[39;00m \u001b[38;5;28;01mNone\u001b[39;00m \u001b[38;5;129;01mand\u001b[39;00m\n\u001b[32m    345\u001b[39m         parse_constant \u001b[38;5;129;01mis\u001b[39;00m \u001b[38;5;28;01mNone\u001b[39;00m \u001b[38;5;129;01mand\u001b[39;00m object_pairs_hook \u001b[38;5;129;01mis\u001b[39;00m \u001b[38;5;28;01mNone\u001b[39;00m \u001b[38;5;129;01mand\u001b[39;00m \u001b[38;5;129;01mnot\u001b[39;00m kw):\n",
      "\u001b[31mTypeError\u001b[39m: the JSON object must be str, bytes or bytearray, not list"
     ]
    }
   ],
   "source": [
    "limit=1\n",
    "dataset=ds\n",
    "\n",
    "n = min(limit, len(dataset))\n",
    "print(f\"[NER] Beginning inference for {n} rows...\")\n",
    "results: List[List[int]] = []\n",
    "for i in range(n):\n",
    "    tokens = sanitize_tokens(dataset[i][\"tokens\"])  # type: ignore[index]\n",
    "    print(f\"[NER] Row {i}: {len(tokens)} tokens\")\n",
    "    prompt = build_prompt(tokens, label_names)\n",
    "    result = await Runner.run(agent, prompt, run_config=RunConfig(model_provider=GEMINI_PROVIDER))\n",
    "    text = result.final_output if hasattr(result, \"final_output\") else str(result)\n",
    "    arr = json.loads(text)\n",
    "    preds = [int(x) for x in arr]\n",
    "    # Basic validation; fallback to O if invalid length\n",
    "    if not validate_predicted_ids(preds, len(tokens), num_labels):\n",
    "        preds = [0] * len(tokens)\n",
    "    results.append(preds)\n",
    "    print(f\"[NER] Row {i}: prediction length {len(preds)}\")\n",
    "\n",
    "dataset = dataset.select(range(n))\n",
    "dataset = dataset.add_column(\"pred_ner_tags\", results)\n",
    "print(\"[NER] Inference complete.\")\n"
   ]
  },
  {
   "cell_type": "code",
   "execution_count": 10,
   "id": "b693dac8",
   "metadata": {},
   "outputs": [
    {
     "data": {
      "text/plain": [
       "'[0,0,5,0,0,0,0,5,0,0]\\n'"
      ]
     },
     "execution_count": 10,
     "metadata": {},
     "output_type": "execute_result"
    }
   ],
   "source": [
    "text"
   ]
  }
 ],
 "metadata": {
  "kernelspec": {
   "display_name": ".venv",
   "language": "python",
   "name": "python3"
  },
  "language_info": {
   "codemirror_mode": {
    "name": "ipython",
    "version": 3
   },
   "file_extension": ".py",
   "mimetype": "text/x-python",
   "name": "python",
   "nbconvert_exporter": "python",
   "pygments_lexer": "ipython3",
   "version": "3.12.11"
  }
 },
 "nbformat": 4,
 "nbformat_minor": 5
}
