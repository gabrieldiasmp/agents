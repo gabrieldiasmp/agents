{
 "cells": [
  {
   "cell_type": "code",
   "execution_count": 1,
   "id": "f816ae93",
   "metadata": {},
   "outputs": [],
   "source": [
    "%load_ext autoreload\n",
    "%autoreload 2"
   ]
  },
  {
   "cell_type": "code",
   "execution_count": 26,
   "id": "0528099e",
   "metadata": {},
   "outputs": [],
   "source": [
    "import asyncio\n",
    "import json\n",
    "import os\n",
    "import sys\n",
    "from typing import List\n",
    "\n",
    "from datasets import Dataset\n",
    "from agents import Runner, RunConfig\n",
    "\n",
    "from config import settings  # type: ignore\n",
    "from data import (  # type: ignore\n",
    "    build_prompt,\n",
    "    get_label_mapping,\n",
    "    sanitize_tokens,\n",
    "    validate_predicted_ids,\n",
    ")\n",
    "from model_provider import GEMINI_PROVIDER  # type: ignore\n",
    "from ner_agent import build_ner_agent  # type: ignore\n",
    "\n",
    "from data import load_conll2003_test_split  # type: ignore\n",
    "from runner import run_dataset  # type: ignore\n",
    "\n",
    "\n",
    "\n"
   ]
  },
  {
   "cell_type": "code",
   "execution_count": 28,
   "id": "766a360b",
   "metadata": {},
   "outputs": [
    {
     "name": "stdout",
     "output_type": "stream",
     "text": [
      "[NER] Environment loaded. Starting...\n",
      "[NER] Loading CoNLL2003 test split...\n"
     ]
    }
   ],
   "source": [
    "print(\"[NER] Environment loaded. Starting...\")\n",
    "if not settings.api_key:\n",
    "    raise ValueError(\"GOOGLE_API_KEY is required\")\n",
    "print(\"[NER] Loading CoNLL2003 test split...\")\n",
    "ds = load_conll2003_test_split()\n"
   ]
  },
  {
   "cell_type": "code",
   "execution_count": 16,
   "id": "d2e266d2",
   "metadata": {},
   "outputs": [
    {
     "data": {
      "text/plain": [
       "{'id': '0',\n",
       " 'tokens': ['SOCCER',\n",
       "  '-',\n",
       "  'JAPAN',\n",
       "  'GET',\n",
       "  'LUCKY',\n",
       "  'WIN',\n",
       "  ',',\n",
       "  'CHINA',\n",
       "  'IN',\n",
       "  'SURPRISE',\n",
       "  'DEFEAT',\n",
       "  '.'],\n",
       " 'pos_tags': [21, 8, 22, 37, 22, 22, 6, 22, 15, 12, 21, 7],\n",
       " 'chunk_tags': [11, 0, 11, 21, 11, 12, 0, 11, 13, 11, 12, 0],\n",
       " 'ner_tags': [0, 0, 5, 0, 0, 0, 0, 1, 0, 0, 0, 0]}"
      ]
     },
     "execution_count": 16,
     "metadata": {},
     "output_type": "execute_result"
    }
   ],
   "source": [
    "ds[0]"
   ]
  },
  {
   "cell_type": "code",
   "execution_count": 29,
   "id": "f39ee917",
   "metadata": {},
   "outputs": [
    {
     "name": "stdout",
     "output_type": "stream",
     "text": [
      "['O', 'B-PER', 'I-PER', 'B-ORG', 'I-ORG', 'B-LOC', 'I-LOC', 'B-MISC', 'I-MISC']\n",
      "9\n"
     ]
    }
   ],
   "source": [
    "label_names, _ = get_label_mapping(ds)\n",
    "num_labels = len(label_names)\n",
    "\n",
    "print(label_names)\n",
    "print(num_labels)"
   ]
  },
  {
   "cell_type": "code",
   "execution_count": 30,
   "id": "8339d36c",
   "metadata": {},
   "outputs": [
    {
     "name": "stdout",
     "output_type": "stream",
     "text": [
      "[NER] Building agent...\n"
     ]
    }
   ],
   "source": [
    "print(\"[NER] Building agent...\")\n",
    "agent = build_ner_agent()\n"
   ]
  },
  {
   "cell_type": "code",
   "execution_count": null,
   "id": "1410a232",
   "metadata": {},
   "outputs": [],
   "source": [
    "limit=100\n",
    "dataset=ds\n",
    "import time\n",
    "\n",
    "n = min(limit, len(dataset))\n",
    "print(f\"[NER] Beginning inference for {n} rows...\")\n",
    "results: List[List[int]] = []\n",
    "for i in range(n):\n",
    "    # Check if i is one of the trigger values\n",
    "    if i in {30, 60, 90}:\n",
    "        print(f\"Reached {i}, pausing for 30 seconds...\")\n",
    "        time.sleep(30)   # <-- pause execution for 30 seconds\n",
    "    #tokens = sanitize_tokens(dataset[i][\"tokens\"])  # type: ignore[index]\n",
    "    tokens = dataset[i][\"tokens\"]\n",
    "    print(f\"[NER] Row {i}: {len(tokens)} tokens\")\n",
    "    prompt = build_prompt(tokens, label_names)\n",
    "    result = await Runner.run(agent, prompt, run_config=RunConfig(model_provider=GEMINI_PROVIDER))\n",
    "    text = result.final_output if hasattr(result, \"final_output\") else str(result)\n",
    "    arr = json.loads(text)\n",
    "    preds = [int(x) for x in arr]\n",
    "    #Basic validation; fallback to O if invalid length\n",
    "    if not validate_predicted_ids(preds, len(tokens), num_labels):\n",
    "        preds = [0] * len(tokens)\n",
    "    results.append(preds)\n",
    "\n",
    "dataset = dataset.select(range(n))\n",
    "dataset = dataset.add_column(\"pred_ner_tags\", results)\n",
    "print(\"[NER] Inference complete.\")\n"
   ]
  },
  {
   "cell_type": "code",
   "execution_count": 10,
   "id": "25489663",
   "metadata": {},
   "outputs": [
    {
     "data": {
      "text/plain": [
       "12"
      ]
     },
     "execution_count": 10,
     "metadata": {},
     "output_type": "execute_result"
    }
   ],
   "source": [
    "len(dataset[0]['tokens'])"
   ]
  },
  {
   "cell_type": "code",
   "execution_count": 11,
   "id": "b669de22",
   "metadata": {},
   "outputs": [
    {
     "data": {
      "text/plain": [
       "\"Tokens: ['SOCCER', '-', 'JAPAN', 'GET', 'LUCKY', 'WIN', ',', 'CHINA', 'IN', 'SURPRISE', 'DEFEAT', '.']\\nLabel names (index aligned): [O, B-PER, I-PER, B-ORG, I-ORG, B-LOC, I-LOC, B-MISC, I-MISC]\\nReturn a list of integers, one per token.\""
      ]
     },
     "execution_count": 11,
     "metadata": {},
     "output_type": "execute_result"
    }
   ],
   "source": [
    "prompt"
   ]
  },
  {
   "cell_type": "code",
   "execution_count": 62,
   "id": "ff306c7d",
   "metadata": {},
   "outputs": [
    {
     "data": {
      "text/plain": [
       "12"
      ]
     },
     "execution_count": 62,
     "metadata": {},
     "output_type": "execute_result"
    }
   ],
   "source": [
    "len(arr)"
   ]
  },
  {
   "cell_type": "code",
   "execution_count": 64,
   "id": "b693dac8",
   "metadata": {},
   "outputs": [
    {
     "name": "stdout",
     "output_type": "stream",
     "text": [
      "12\n",
      "12\n"
     ]
    }
   ],
   "source": [
    "print(len(dataset[0]['ner_tags']))\n",
    "print(len(preds))"
   ]
  },
  {
   "cell_type": "code",
   "execution_count": 12,
   "id": "132d978c",
   "metadata": {},
   "outputs": [
    {
     "data": {
      "text/plain": [
       "{'id': '0',\n",
       " 'tokens': ['SOCCER',\n",
       "  '-',\n",
       "  'JAPAN',\n",
       "  'GET',\n",
       "  'LUCKY',\n",
       "  'WIN',\n",
       "  ',',\n",
       "  'CHINA',\n",
       "  'IN',\n",
       "  'SURPRISE',\n",
       "  'DEFEAT',\n",
       "  '.'],\n",
       " 'pos_tags': [21, 8, 22, 37, 22, 22, 6, 22, 15, 12, 21, 7],\n",
       " 'chunk_tags': [11, 0, 11, 21, 11, 12, 0, 11, 13, 11, 12, 0],\n",
       " 'ner_tags': [0, 0, 5, 0, 0, 0, 0, 1, 0, 0, 0, 0],\n",
       " 'pred_ner_tags': [0, 0, 5, 0, 0, 0, 0, 5, 0, 0, 0, 0]}"
      ]
     },
     "execution_count": 12,
     "metadata": {},
     "output_type": "execute_result"
    }
   ],
   "source": [
    "dataset[0]"
   ]
  },
  {
   "cell_type": "code",
   "execution_count": 37,
   "id": "2bd2f31b",
   "metadata": {},
   "outputs": [],
   "source": [
    "from evaluation import evaluate_ner_predictions"
   ]
  },
  {
   "cell_type": "code",
   "execution_count": 38,
   "id": "b8c8ebfb",
   "metadata": {},
   "outputs": [
    {
     "data": {
      "text/html": [
       "<div>\n",
       "<style scoped>\n",
       "    .dataframe tbody tr th:only-of-type {\n",
       "        vertical-align: middle;\n",
       "    }\n",
       "\n",
       "    .dataframe tbody tr th {\n",
       "        vertical-align: top;\n",
       "    }\n",
       "\n",
       "    .dataframe thead th {\n",
       "        text-align: right;\n",
       "    }\n",
       "</style>\n",
       "<table border=\"1\" class=\"dataframe\">\n",
       "  <thead>\n",
       "    <tr style=\"text-align: right;\">\n",
       "      <th></th>\n",
       "      <th>id</th>\n",
       "      <th>tokens</th>\n",
       "      <th>pos_tags</th>\n",
       "      <th>chunk_tags</th>\n",
       "      <th>ner_tags</th>\n",
       "      <th>pred_ner_tags</th>\n",
       "    </tr>\n",
       "  </thead>\n",
       "  <tbody>\n",
       "    <tr>\n",
       "      <th>0</th>\n",
       "      <td>0</td>\n",
       "      <td>[SOCCER, -, JAPAN, GET, LUCKY, WIN, ,, CHINA, ...</td>\n",
       "      <td>[21, 8, 22, 37, 22, 22, 6, 22, 15, 12, 21, 7]</td>\n",
       "      <td>[11, 0, 11, 21, 11, 12, 0, 11, 13, 11, 12, 0]</td>\n",
       "      <td>[0, 0, 5, 0, 0, 0, 0, 1, 0, 0, 0, 0]</td>\n",
       "      <td>[0, 0, 5, 0, 0, 0, 0, 5, 0, 0, 0, 0]</td>\n",
       "    </tr>\n",
       "    <tr>\n",
       "      <th>1</th>\n",
       "      <td>1</td>\n",
       "      <td>[Nadim, Ladki]</td>\n",
       "      <td>[22, 22]</td>\n",
       "      <td>[11, 12]</td>\n",
       "      <td>[1, 2]</td>\n",
       "      <td>[1, 2]</td>\n",
       "    </tr>\n",
       "    <tr>\n",
       "      <th>2</th>\n",
       "      <td>2</td>\n",
       "      <td>[AL-AIN, ,, United, Arab, Emirates, 1996-12-06]</td>\n",
       "      <td>[22, 6, 22, 22, 23, 11]</td>\n",
       "      <td>[11, 0, 11, 12, 12, 12]</td>\n",
       "      <td>[5, 0, 5, 6, 6, 0]</td>\n",
       "      <td>[5, 0, 5, 6, 6, 0]</td>\n",
       "    </tr>\n",
       "    <tr>\n",
       "      <th>3</th>\n",
       "      <td>3</td>\n",
       "      <td>[Japan, began, the, defence, of, their, Asian,...</td>\n",
       "      <td>[22, 38, 12, 21, 15, 29, 16, 22, 21, 15, 12, 1...</td>\n",
       "      <td>[11, 21, 11, 12, 13, 11, 12, 12, 12, 13, 11, 1...</td>\n",
       "      <td>[5, 0, 0, 0, 0, 0, 7, 8, 0, 0, 0, 0, 0, 0, 0, ...</td>\n",
       "      <td>[5, 0, 0, 0, 0, 0, 7, 8, 0, 0, 0, 0, 0, 0, 0, ...</td>\n",
       "    </tr>\n",
       "    <tr>\n",
       "      <th>4</th>\n",
       "      <td>4</td>\n",
       "      <td>[But, China, saw, their, luck, desert, them, i...</td>\n",
       "      <td>[10, 22, 38, 29, 21, 37, 28, 15, 12, 21, 21, 1...</td>\n",
       "      <td>[0, 11, 21, 11, 12, 21, 11, 13, 11, 12, 12, 13...</td>\n",
       "      <td>[0, 5, 0, 0, 0, 0, 0, 0, 0, 0, 0, 0, 0, 0, 0, ...</td>\n",
       "      <td>[0, 5, 0, 0, 0, 0, 0, 0, 0, 0, 0, 0, 0, 0, 0, ...</td>\n",
       "    </tr>\n",
       "  </tbody>\n",
       "</table>\n",
       "</div>"
      ],
      "text/plain": [
       "  id                                             tokens  \\\n",
       "0  0  [SOCCER, -, JAPAN, GET, LUCKY, WIN, ,, CHINA, ...   \n",
       "1  1                                     [Nadim, Ladki]   \n",
       "2  2    [AL-AIN, ,, United, Arab, Emirates, 1996-12-06]   \n",
       "3  3  [Japan, began, the, defence, of, their, Asian,...   \n",
       "4  4  [But, China, saw, their, luck, desert, them, i...   \n",
       "\n",
       "                                            pos_tags  \\\n",
       "0      [21, 8, 22, 37, 22, 22, 6, 22, 15, 12, 21, 7]   \n",
       "1                                           [22, 22]   \n",
       "2                            [22, 6, 22, 22, 23, 11]   \n",
       "3  [22, 38, 12, 21, 15, 29, 16, 22, 21, 15, 12, 1...   \n",
       "4  [10, 22, 38, 29, 21, 37, 28, 15, 12, 21, 21, 1...   \n",
       "\n",
       "                                          chunk_tags  \\\n",
       "0      [11, 0, 11, 21, 11, 12, 0, 11, 13, 11, 12, 0]   \n",
       "1                                           [11, 12]   \n",
       "2                            [11, 0, 11, 12, 12, 12]   \n",
       "3  [11, 21, 11, 12, 13, 11, 12, 12, 12, 13, 11, 1...   \n",
       "4  [0, 11, 21, 11, 12, 21, 11, 13, 11, 12, 12, 13...   \n",
       "\n",
       "                                            ner_tags  \\\n",
       "0               [0, 0, 5, 0, 0, 0, 0, 1, 0, 0, 0, 0]   \n",
       "1                                             [1, 2]   \n",
       "2                                 [5, 0, 5, 6, 6, 0]   \n",
       "3  [5, 0, 0, 0, 0, 0, 7, 8, 0, 0, 0, 0, 0, 0, 0, ...   \n",
       "4  [0, 5, 0, 0, 0, 0, 0, 0, 0, 0, 0, 0, 0, 0, 0, ...   \n",
       "\n",
       "                                       pred_ner_tags  \n",
       "0               [0, 0, 5, 0, 0, 0, 0, 5, 0, 0, 0, 0]  \n",
       "1                                             [1, 2]  \n",
       "2                                 [5, 0, 5, 6, 6, 0]  \n",
       "3  [5, 0, 0, 0, 0, 0, 7, 8, 0, 0, 0, 0, 0, 0, 0, ...  \n",
       "4  [0, 5, 0, 0, 0, 0, 0, 0, 0, 0, 0, 0, 0, 0, 0, ...  "
      ]
     },
     "execution_count": 38,
     "metadata": {},
     "output_type": "execute_result"
    }
   ],
   "source": [
    "import pandas as pd\n",
    "\n",
    "# Replace with your file path\n",
    "df = pd.read_parquet(\"/Users/gabrieldiasmp/Documents/pasta_gabriel/codigo/agents/7_named_entity_recognition/output/predictions.parquet\")\n",
    "\n",
    "# Preview the first rows\n",
    "df.head()"
   ]
  },
  {
   "cell_type": "code",
   "execution_count": 40,
   "id": "197f83a0",
   "metadata": {},
   "outputs": [],
   "source": [
    "# id2label example:\n",
    "id2label = {0:'O',1:'B-PER',2:'I-PER',3:'B-ORG',4:'I-ORG',5:'B-LOC',6:'I-LOC',7:'B-MISC',8:'I-MISC'}"
   ]
  },
  {
   "cell_type": "code",
   "execution_count": 41,
   "id": "24477103",
   "metadata": {},
   "outputs": [],
   "source": [
    "result = evaluate_ner_predictions(df, id2label)"
   ]
  },
  {
   "cell_type": "code",
   "execution_count": 45,
   "id": "43f93ced",
   "metadata": {},
   "outputs": [
    {
     "data": {
      "text/plain": [
       "{'overall': {'f1': 0.7115902964959567,\n",
       "  'precision': 0.8571428571428571,\n",
       "  'recall': 0.6082949308755761},\n",
       " 'per_label':       precision    recall  f1-score  support\n",
       " LOC    0.947368  0.878049  0.911392     82.0\n",
       " MISC   0.800000  0.545455  0.648649     22.0\n",
       " ORG    0.125000  0.500000  0.200000      2.0\n",
       " PER    0.854545  0.423423  0.566265    111.0,\n",
       " 'report_text': '              precision    recall  f1-score   support\\n\\n         LOC       0.95      0.88      0.91        82\\n        MISC       0.80      0.55      0.65        22\\n         ORG       0.12      0.50      0.20         2\\n         PER       0.85      0.42      0.57       111\\n\\n   micro avg       0.86      0.61      0.71       217\\n   macro avg       0.68      0.59      0.58       217\\nweighted avg       0.88      0.61      0.70       217\\n'}"
      ]
     },
     "execution_count": 45,
     "metadata": {},
     "output_type": "execute_result"
    }
   ],
   "source": [
    "result"
   ]
  },
  {
   "cell_type": "code",
   "execution_count": 44,
   "id": "480c4dc6",
   "metadata": {},
   "outputs": [
    {
     "name": "stdout",
     "output_type": "stream",
     "text": [
      "F1: 0.7115902964959567 \n",
      "Precision: 0.8571428571428571 \n",
      "Recall: 0.6082949308755761\n",
      "              precision    recall  f1-score   support\n",
      "\n",
      "         LOC       0.95      0.88      0.91        82\n",
      "        MISC       0.80      0.55      0.65        22\n",
      "         ORG       0.12      0.50      0.20         2\n",
      "         PER       0.85      0.42      0.57       111\n",
      "\n",
      "   micro avg       0.86      0.61      0.71       217\n",
      "   macro avg       0.68      0.59      0.58       217\n",
      "weighted avg       0.88      0.61      0.70       217\n",
      "\n"
     ]
    }
   ],
   "source": [
    "print(f\"F1: {result['overall']['f1']} \\nPrecision: {result['overall']['precision']} \\nRecall: {result['overall']['recall']}\")\n",
    "print(result['report_text'])"
   ]
  }
 ],
 "metadata": {
  "kernelspec": {
   "display_name": ".venv",
   "language": "python",
   "name": "python3"
  },
  "language_info": {
   "codemirror_mode": {
    "name": "ipython",
    "version": 3
   },
   "file_extension": ".py",
   "mimetype": "text/x-python",
   "name": "python",
   "nbconvert_exporter": "python",
   "pygments_lexer": "ipython3",
   "version": "3.12.11"
  }
 },
 "nbformat": 4,
 "nbformat_minor": 5
}
