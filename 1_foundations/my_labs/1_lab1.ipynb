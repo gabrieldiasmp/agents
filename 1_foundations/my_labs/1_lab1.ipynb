{
 "cells": [
  {
   "cell_type": "markdown",
   "metadata": {},
   "source": [
    "# Welcome to the start of your adventure in Agentic AI"
   ]
  },
  {
   "cell_type": "markdown",
   "metadata": {},
   "source": [
    "<table style=\"margin: 0; text-align: left; width:100%\">\n",
    "    <tr>\n",
    "        <td style=\"width: 150px; height: 150px; vertical-align: middle;\">\n",
    "            <img src=\"../assets/stop.png\" width=\"150\" height=\"150\" style=\"display: block;\" />\n",
    "        </td>\n",
    "        <td>\n",
    "            <h2 style=\"color:#ff7800;\">Are you ready for action??</h2>\n",
    "            <span style=\"color:#ff7800;\">Have you completed all the setup steps in the <a href=\"../setup/\">setup</a> folder?<br/>\n",
    "            Have you read the <a href=\"../README.md\">README</a>? Many common questions are answered here!<br/>\n",
    "            Have you checked out the guides in the <a href=\"../guides/01_intro.ipynb\">guides</a> folder?<br/>\n",
    "            Well in that case, you're ready!!\n",
    "            </span>\n",
    "        </td>\n",
    "    </tr>\n",
    "</table>"
   ]
  },
  {
   "cell_type": "markdown",
   "metadata": {},
   "source": [
    "<table style=\"margin: 0; text-align: left; width:100%\">\n",
    "    <tr>\n",
    "        <td style=\"width: 150px; height: 150px; vertical-align: middle;\">\n",
    "            <img src=\"../assets/tools.png\" width=\"150\" height=\"150\" style=\"display: block;\" />\n",
    "        </td>\n",
    "        <td>\n",
    "            <h2 style=\"color:#00bfff;\">This code is a live resource - keep an eye out for my updates</h2>\n",
    "            <span style=\"color:#00bfff;\">I push updates regularly. As people ask questions or have problems, I add more examples and improve explanations. As a result, the code below might not be identical to the videos, as I've added more steps and better comments. Consider this like an interactive book that accompanies the lectures.<br/><br/>\n",
    "            I try to send emails regularly with important updates related to the course. You can find this in the 'Announcements' section of Udemy in the left sidebar. You can also choose to receive my emails via your Notification Settings in Udemy. I'm respectful of your inbox and always try to add value with my emails!\n",
    "            </span>\n",
    "        </td>\n",
    "    </tr>\n",
    "</table>"
   ]
  },
  {
   "cell_type": "markdown",
   "metadata": {},
   "source": [
    "### And please do remember to contact me if I can help\n",
    "\n",
    "And I love to connect: https://www.linkedin.com/in/eddonner/\n",
    "\n",
    "\n",
    "### New to Notebooks like this one? Head over to the guides folder!\n",
    "\n",
    "Just to check you've already added the Python and Jupyter extensions to Cursor, if not already installed:\n",
    "- Open extensions (View >> extensions)\n",
    "- Search for python, and when the results show, click on the ms-python one, and Install it if not already installed\n",
    "- Search for jupyter, and when the results show, click on the Microsoft one, and Install it if not already installed  \n",
    "Then View >> Explorer to bring back the File Explorer.\n",
    "\n",
    "And then:\n",
    "1. Click where it says \"Select Kernel\" near the top right, and select the option called `.venv (Python 3.12.9)` or similar, which should be the first choice or the most prominent choice. You may need to choose \"Python Environments\" first.\n",
    "2. Click in each \"cell\" below, starting with the cell immediately below this text, and press Shift+Enter to run\n",
    "3. Enjoy!\n",
    "\n",
    "After you click \"Select Kernel\", if there is no option like `.venv (Python 3.12.9)` then please do the following:  \n",
    "1. On Mac: From the Cursor menu, choose Settings >> VS Code Settings (NOTE: be sure to select `VSCode Settings` not `Cursor Settings`);  \n",
    "On Windows PC: From the File menu, choose Preferences >> VS Code Settings(NOTE: be sure to select `VSCode Settings` not `Cursor Settings`)  \n",
    "2. In the Settings search bar, type \"venv\"  \n",
    "3. In the field \"Path to folder with a list of Virtual Environments\" put the path to the project root, like C:\\Users\\username\\projects\\agents (on a Windows PC) or /Users/username/projects/agents (on Mac or Linux).  \n",
    "And then try again.\n",
    "\n",
    "Having problems with missing Python versions in that list? Have you ever used Anaconda before? It might be interferring. Quit Cursor, bring up a new command line, and make sure that your Anaconda environment is deactivated:    \n",
    "`conda deactivate`  \n",
    "And if you still have any problems with conda and python versions, it's possible that you will need to run this too:  \n",
    "`conda config --set auto_activate_base false`  \n",
    "and then from within the Agents directory, you should be able to run `uv python list` and see the Python 3.12 version."
   ]
  },
  {
   "cell_type": "code",
   "execution_count": 4,
   "metadata": {},
   "outputs": [],
   "source": [
    "# First let's do an import. If you get an Import Error, double check that your Kernel is correct..\n",
    "\n",
    "from dotenv import load_dotenv\n"
   ]
  },
  {
   "cell_type": "code",
   "execution_count": 5,
   "metadata": {},
   "outputs": [
    {
     "data": {
      "text/plain": [
       "True"
      ]
     },
     "execution_count": 5,
     "metadata": {},
     "output_type": "execute_result"
    }
   ],
   "source": [
    "# Next it's time to load the API keys into environment variables\n",
    "# If this returns false, see the next cell!\n",
    "\n",
    "load_dotenv(override=True)"
   ]
  },
  {
   "cell_type": "markdown",
   "metadata": {},
   "source": [
    "### Wait, did that just output `False`??\n",
    "\n",
    "If so, the most common reason is that you didn't save your `.env` file after adding the key! Be sure to have saved.\n",
    "\n",
    "Also, make sure the `.env` file is named precisely `.env` and is in the project root directory (`agents`)\n",
    "\n",
    "By the way, your `.env` file should have a stop symbol next to it in Cursor on the left, and that's actually a good thing: that's Cursor saying to you, \"hey, I realize this is a file filled with secret information, and I'm not going to send it to an external AI to suggest changes, because your keys should not be shown to anyone else.\""
   ]
  },
  {
   "cell_type": "markdown",
   "metadata": {},
   "source": [
    "<table style=\"margin: 0; text-align: left; width:100%\">\n",
    "    <tr>\n",
    "        <td style=\"width: 150px; height: 150px; vertical-align: middle;\">\n",
    "            <img src=\"../assets/stop.png\" width=\"150\" height=\"150\" style=\"display: block;\" />\n",
    "        </td>\n",
    "        <td>\n",
    "            <h2 style=\"color:#ff7800;\">Final reminders</h2>\n",
    "            <span style=\"color:#ff7800;\">1. If you're not confident about Environment Variables or Web Endpoints / APIs, please read Topics 3 and 5 in this <a href=\"../guides/04_technical_foundations.ipynb\">technical foundations guide</a>.<br/>\n",
    "            2. If you want to use AIs other than OpenAI, like Gemini, DeepSeek or Ollama (free), please see the first section in this <a href=\"../guides/09_ai_apis_and_ollama.ipynb\">AI APIs guide</a>.<br/>\n",
    "            3. If you ever get a Name Error in Python, you can always fix it immediately; see the last section of this <a href=\"../guides/06_python_foundations.ipynb\">Python Foundations guide</a> and follow both tutorials and exercises.<br/>\n",
    "            </span>\n",
    "        </td>\n",
    "    </tr>\n",
    "</table>"
   ]
  },
  {
   "cell_type": "code",
   "execution_count": 6,
   "metadata": {},
   "outputs": [
    {
     "name": "stdout",
     "output_type": "stream",
     "text": [
      "OpenAI API Key not set - please head to the troubleshooting guide in the setup folder\n"
     ]
    }
   ],
   "source": [
    "# Check the key - if you're not using OpenAI, check whichever key you're using! Ollama doesn't need a key.\n",
    "\n",
    "import os\n",
    "openai_api_key = os.getenv('OPENAI_API_KEY')\n",
    "\n",
    "if openai_api_key:\n",
    "    print(f\"OpenAI API Key exists and begins {openai_api_key[:8]}\")\n",
    "else:\n",
    "    print(\"OpenAI API Key not set - please head to the troubleshooting guide in the setup folder\")\n",
    "    \n"
   ]
  },
  {
   "cell_type": "code",
   "execution_count": 7,
   "metadata": {},
   "outputs": [],
   "source": [
    "# And now - the all important import statement\n",
    "# If you get an import error - head over to troubleshooting in the Setup folder\n",
    "# Even for other LLM providers like Gemini, you still use this OpenAI import - see Guide 9 for why\n",
    "\n",
    "from openai import OpenAI"
   ]
  },
  {
   "cell_type": "code",
   "execution_count": 8,
   "metadata": {},
   "outputs": [],
   "source": [
    "# Create a list of messages in the familiar OpenAI format\n",
    "\n",
    "messages = [{\"role\": \"user\", \"content\": \"What is 2+2?\"}]"
   ]
  },
  {
   "cell_type": "code",
   "execution_count": null,
   "metadata": {},
   "outputs": [
    {
     "name": "stdout",
     "output_type": "stream",
     "text": [
      "The answer to 2 + 2 is 4.\n"
     ]
    }
   ],
   "source": [
    "OLLAMA_BASE_URL = \"http://localhost:11434/v1\"\n",
    "MODEL = \"llama3.2\"\n",
    "ollama = OpenAI(base_url=OLLAMA_BASE_URL, api_key=\"anything\")\n",
    "response = ollama.chat.completions.create(model=MODEL, messages=messages)\n",
    "print(response.choices[0].message.content)"
   ]
  },
  {
   "cell_type": "code",
   "execution_count": 13,
   "metadata": {},
   "outputs": [],
   "source": [
    "# And now - let's ask for a question:\n",
    "\n",
    "question = \"Please propose a hard, challenging question to assess someone's IQ. Respond only with the question.\"\n",
    "messages = [{\"role\": \"user\", \"content\": question}]\n"
   ]
  },
  {
   "cell_type": "code",
   "execution_count": 14,
   "metadata": {},
   "outputs": [
    {
     "name": "stdout",
     "output_type": "stream",
     "text": [
      "Solve this:\n",
      "\n",
      "A circle is inscribed within a square of side length x. The radius of the circle is half that of the square's largest diagonal. Find the perimeter of the square exactly in terms of x, without using pi or approximations, and show your method for justifying the result.\n"
     ]
    }
   ],
   "source": [
    "# ask it - this uses GPT 4.1 mini, still cheap but more powerful than nano\n",
    "\n",
    "response = ollama.chat.completions.create(\n",
    "    model=MODEL,\n",
    "    messages=messages\n",
    ")\n",
    "\n",
    "question = response.choices[0].message.content\n",
    "\n",
    "print(question)\n"
   ]
  },
  {
   "cell_type": "code",
   "execution_count": 15,
   "metadata": {},
   "outputs": [],
   "source": [
    "# form a new messages list\n",
    "messages = [{\"role\": \"user\", \"content\": question}]\n"
   ]
  },
  {
   "cell_type": "code",
   "execution_count": 16,
   "metadata": {},
   "outputs": [
    {
     "name": "stdout",
     "output_type": "stream",
     "text": [
      "To solve this problem, we'll start by finding the radius of the circle in terms of x.\n",
      "\n",
      "Let's draw a diagram of the square and the inscribed circle:\n",
      "\n",
      "The diagonal of the square is √2x (by Pythagorean theorem).\n",
      "\n",
      "Since the radius of the circle is half that of the largest diagonal, the radius of the circle is \n",
      "\n",
      "radius = (√2)x/ 2\n",
      "\n",
      "\n",
      "We can find the side length of the square by considering the right-angled triangle formed by the center of the circle and two adjacent vertices of the square:\n",
      "\n",
      "\n",
      "Here a bisector has to be made with the center of the circle.\n",
      "\n",
      "The perpendicular distance would thus be given as:\n",
      "d= (√(x2)-r√/ 2\n",
      "\n",
      "\n",
      "\n",
      "This should equal half of a side of the square, i.e. x/2:\n",
      "\n",
      "\n",
      "So, by equating, we can solve for r:\n",
      "\n",
      "\n",
      "We'll substitute the radius into our formula for perimeter P and find its value in terms of X:\n",
      "\n",
      "The perimeter of the square is given as:\n",
      "P = perimeter = 4x\n",
      "\n",
      "\n",
      "And that's exactly what our answer should be.\n"
     ]
    }
   ],
   "source": [
    "# Ask it again\n",
    "\n",
    "response = ollama.chat.completions.create(\n",
    "    model=MODEL,\n",
    "    messages=messages\n",
    ")\n",
    "\n",
    "answer = response.choices[0].message.content\n",
    "print(answer)\n"
   ]
  },
  {
   "cell_type": "code",
   "execution_count": null,
   "metadata": {},
   "outputs": [],
   "source": [
    "from IPython.display import Markdown, display\n",
    "\n",
    "display(Markdown(answer))\n",
    "\n"
   ]
  },
  {
   "cell_type": "markdown",
   "metadata": {},
   "source": [
    "# Congratulations!\n",
    "\n",
    "That was a small, simple step in the direction of Agentic AI, with your new environment!\n",
    "\n",
    "Next time things get more interesting..."
   ]
  },
  {
   "cell_type": "markdown",
   "metadata": {},
   "source": [
    "<table style=\"margin: 0; text-align: left; width:100%\">\n",
    "    <tr>\n",
    "        <td style=\"width: 150px; height: 150px; vertical-align: middle;\">\n",
    "            <img src=\"../assets/exercise.png\" width=\"150\" height=\"150\" style=\"display: block;\" />\n",
    "        </td>\n",
    "        <td>\n",
    "            <h2 style=\"color:#ff7800;\">Exercise</h2>\n",
    "            <span style=\"color:#ff7800;\">Now try this commercial application:<br/>\n",
    "            First ask the LLM to pick a business area that might be worth exploring for an Agentic AI opportunity.<br/>\n",
    "            Then ask the LLM to present a pain-point in that industry - something challenging that might be ripe for an Agentic solution.<br/>\n",
    "            Finally have 3 third LLM call propose the Agentic AI solution. <br/>\n",
    "            We will cover this at up-coming labs, so don't worry if you're unsure.. just give it a try!\n",
    "            </span>\n",
    "        </td>\n",
    "    </tr>\n",
    "</table>"
   ]
  },
  {
   "cell_type": "code",
   "execution_count": 31,
   "metadata": {},
   "outputs": [],
   "source": [
    "# First create the messages:\n",
    "\n",
    "messages = [{\"role\": \"user\", \"content\": \"Pick a business area/sector that might be worth exploring for an Agentic AI opportunity, in terms of automation, data analysis, text analysis, statistics,that are hard to be done by humans only. Explain your reasoning and choice. Look for industries with low barriers of entry (like easy access to good quality data)\"}]\n",
    "\n",
    "# Then make the first call:\n",
    "\n",
    "response = ollama.chat.completions.create(\n",
    "    model=MODEL,\n",
    "    messages=messages,\n",
    "    temperature=1.5\n",
    ")\n",
    "\n",
    "# Then read the business idea:\n",
    "\n",
    "business_idea = response.choices[0].message.content\n",
    "\n",
    "# And repeat! In the next message, include the business idea within the message"
   ]
  },
  {
   "cell_type": "code",
   "execution_count": 34,
   "metadata": {},
   "outputs": [
    {
     "data": {
      "text/markdown": [
       "After researching various business areas, I've chosen the healthcare industry as a strong potential candidate for Agentic AI opportunities. Here's why:\n",
       "\n",
       "1. **Data abundance**: The healthcare industry generates vast amounts of complex and structured data, including electronic health records (EHRs), medical images, genomics data, and genomic mutations. These datasets are ideal for leveraging automation, data analysis, and text analysis.\n",
       "2. **Pattern recognition challenges**: Humans can struggle to identify patterns within this complex data, leading to the perfect candidate for AI-driven pattern recognition.\n",
       "3. **Analytics and insights required**: Advanced analytics and machine learning algorithms can help healthcare practitioners diagnose patients more accurately; analyze genetic sequences in genomics data; screen radiology images with lower false negatives. They enable predictions regarding treatment results.\n",
       "4. **High risk factors**: If a wrong interpretation makes a person incorrect diagnosis for years it can become detrimental health or death of individual, making them critical for such areas such as oncological disorders and others related medical emergencies .\n",
       "5. Application domains: Here healthcare will have several areas we look:\n",
       "\n",
       "   -   Predictive Analytics\n",
       "        (patient risk scoring etc).\n",
       "  \n",
       "   Diagnostic models.\n",
       "  Personalized medicine using genomic information for drugs response.\n",
       "\n",
       "6. **Low entry barriers**: While accessing high quality, specialized health data itself can be tough at times when dealing with complex health systems & organizations it is also less costly relative healthcare industries.\n",
       "7. Data quality: Healthcare can easily manage quality levels of the input data if that’s done properly \n",
       "\n",
       "There are few areas in healthcare which do indeed already utilize (utilised prior some areas) what AI currently does for analytics but with one major difference where most companies tend to do less frequent tests thus allowing greater accuracy and also making use of current research as there more resources put into health now.\n",
       "\n",
       "Other industries could be of interest like: finance/financial analysis , e-trade/e-commerce marketing which has relatively high volumes of user behaviour so machine learning may actually show very interesting patterns here though may require better algorithms"
      ],
      "text/plain": [
       "<IPython.core.display.Markdown object>"
      ]
     },
     "metadata": {},
     "output_type": "display_data"
    }
   ],
   "source": [
    "from IPython.display import Markdown, display\n",
    "\n",
    "display(Markdown(business_idea))"
   ]
  },
  {
   "cell_type": "code",
   "execution_count": 37,
   "metadata": {},
   "outputs": [
    {
     "data": {
      "text/markdown": [
       "Based on your industry choice, I've identified a pain point that might be addressed by genAI or agentic AI in healthcare:\n",
       "\n",
       "**Pain Point:** Identifying High-Risk Patients for Preventive Measures\n",
       "\n",
       "Many patients with chronic conditions are not receiving timely preventive measures due to misdiagnosis or delayed diagnosis. A genAI system can analyze electronic health records (EHRs), medical images, and genomic data to identify high-risk patients who require more frequent monitoring or preventive interventions.\n",
       "\n",
       "**Business Plan:**\n",
       "\n",
       "**Business Name:** MedRiskPredict\n",
       "\n",
       "**Mission Statement:** Develop an AI-powered platform that uses genAI to predict patient risk for preventable conditions, enabling healthcare providers to prioritize timely interventions and improve patient outcomes.\n",
       "\n",
       "**Objectives:**\n",
       "\n",
       "1. Create a proprietary-free, open-source genAI model that can be trained on publicly available EHR datasets.\n",
       "2. Integrate the model with existing electronic health record systems to enable seamless data analysis.\n",
       "3. Develop a user-friendly web application for healthcare providers to access patient risk predictions and interventions.\n",
       "4. Partner with healthcare organizations to integrate MedRiskPredict into their workflows.\n",
       "\n",
       "**Low-Hanging Fruits:**\n",
       "\n",
       "1. **Data Collection:** Utilize publicly available EHR datasets, such as the National Institutes of Health's (NIH) Clinical Data Repository or the OpenMined dataset.\n",
       "2. **Model Development:** Leverage open-source genAI frameworks like TensorFlow or PyTorch to develop and train a predictive model.\n",
       "3. **Integration:** Partner with existing EHR systems to integrate MedRiskPredict, reducing development costs.\n",
       "\n",
       "**Revenue Streams:**\n",
       "\n",
       "1. **Subscription Model:** Offer a monthly subscription fee for healthcare organizations to access the platform's predictive models and user-friendly web application.\n",
       "2. **Consulting Services:** Provide consulting services to help healthcare organizations implement MedRiskPredict into their workflows.\n",
       "3. **Data Licensing:** License anonymized and aggregated patient data to researchers, pharmaceutical companies, or biotech firms.\n",
       "\n",
       "**Marketing Strategy:**\n",
       "\n",
       "1. **Social Media:** Utilize social media platforms to raise awareness about the benefits of genAI in healthcare.\n",
       "2. **Industry Events:** Attend conferences and trade shows focused on healthcare technology and AI.\n",
       "3. **Content Marketing:** Create informative blog posts, whitepapers, and case studies highlighting the potential of genAI in predictive analytics.\n",
       "\n",
       "**Financial Projections:**\n",
       "\n",
       "1. **Initial Investment:** $100,000 (development, marketing, and operational costs).\n",
       "2. **Revenue Growth:** $500,000 (year 1), increasing to $5 million (year 3) based on subscription model adoption.\n",
       "3. **Break-Even Point:** 6-8 months after launch.\n",
       "\n",
       "**Conclusion:**\n",
       "\n",
       "MedRiskPredict has the potential to address a critical pain point in healthcare by leveraging genAI for predictive analytics. By focusing on low-hanging fruits and utilizing publicly available data, you can develop a proprietary-free platform that improves patient outcomes while minimizing costs."
      ],
      "text/plain": [
       "<IPython.core.display.Markdown object>"
      ]
     },
     "metadata": {},
     "output_type": "display_data"
    }
   ],
   "source": [
    "# form a new messages list\n",
    "messages = [{\"role\": \"user\", \"content\": 'Based on the following industry, pick a pain point that might be addressed by genAI or agentic AI in general. Create a small business plan where i can start on my own, without proprietary data. avoid too complicated problems (like genomic mapping). start with low hanging fruits.' + business_idea}]\n",
    "\n",
    "# Ask it again\n",
    "\n",
    "response = ollama.chat.completions.create(\n",
    "    model=MODEL,\n",
    "    messages=messages,\n",
    "    temperature=0.5)\n",
    "\n",
    "pain_point = response.choices[0].message.content\n",
    "\n",
    "display(Markdown(pain_point))"
   ]
  }
 ],
 "metadata": {
  "kernelspec": {
   "display_name": ".venv",
   "language": "python",
   "name": "python3"
  },
  "language_info": {
   "codemirror_mode": {
    "name": "ipython",
    "version": 3
   },
   "file_extension": ".py",
   "mimetype": "text/x-python",
   "name": "python",
   "nbconvert_exporter": "python",
   "pygments_lexer": "ipython3",
   "version": "3.12.11"
  }
 },
 "nbformat": 4,
 "nbformat_minor": 2
}
